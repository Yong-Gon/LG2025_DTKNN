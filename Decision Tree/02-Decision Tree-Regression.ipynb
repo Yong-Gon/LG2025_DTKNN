{
 "cells": [
  {
   "cell_type": "code",
   "execution_count": 1,
   "id": "a3405253-e7a8-44a2-a002-9c485481bd58",
   "metadata": {
    "ExecuteTime": {
     "end_time": "2025-03-06T06:47:04.590133Z",
     "start_time": "2025-03-06T06:47:04.567711Z"
    }
   },
   "outputs": [
    {
     "name": "stderr",
     "output_type": "stream",
     "text": [
      "'git' is not recognized as an internal or external command,\n",
      "operable program or batch file.\n"
     ]
    }
   ],
   "source": [
    "!git clone https://github.com/Seung-hwanSong/LG2024_DTKNN.git #코랩 사용"
   ]
  },
  {
   "cell_type": "markdown",
   "id": "201eeb20-9af0-4178-bc41-28c65811e30f",
   "metadata": {
    "tags": []
   },
   "source": [
    "# [머신러닝 기반 시계열 분석 1 실습]\n",
    "# Decision Tree & k-NN \n",
    "## [Decision Tree: Regression Tree - Example]"
   ]
  },
  {
   "cell_type": "markdown",
   "id": "fe121943-f013-4868-a1bb-9bfde12c67f0",
   "metadata": {},
   "source": [
    "##### jupyter notebook 단축키\n",
    "\n",
    "- ctrl+enter: 셀 실행   \n",
    "- shift+enter: 셀 실행 및 다음 셀 이동   \n",
    "- alt+enter: 셀 실행, 다음 셀 이동, 새로운 셀 생성\n",
    "- a: 상단에 새로운 셀 만들기\n",
    "- b: 하단에 새로운 셀 만들기\n",
    "- dd: 셀 삭제(x: 셀 삭제)\n",
    "- 함수 ( ) 안에서 shift+tab: arguments description. shift+tab+tab은 길게 볼 수 있도록"
   ]
  },
  {
   "cell_type": "markdown",
   "id": "b6e9a3d7-c9ba-4b55-aeaf-f3d5011c6d83",
   "metadata": {},
   "source": [
    "## 1. 모듈 불러오기"
   ]
  },
  {
   "cell_type": "markdown",
   "id": "16ff7ef1-95f0-4439-9758-0f735cb1ef7d",
   "metadata": {},
   "source": [
    "import 불러올 패키지명 as 그 패키지를 파이썬에서 사용할 이름"
   ]
  },
  {
   "cell_type": "code",
   "execution_count": 2,
   "id": "4dfd87e7",
   "metadata": {
    "ExecuteTime": {
     "end_time": "2025-03-06T06:47:05.571050Z",
     "start_time": "2025-03-06T06:47:04.591131Z"
    }
   },
   "outputs": [],
   "source": [
    "\"\"\" 데이터 전처리 \"\"\"\n",
    "import pandas as pd\n",
    "import numpy as np\n",
    "\n",
    "\n",
    "\"\"\" 모델 생성, 학습, 평가 \"\"\"\n",
    "from sklearn.model_selection import train_test_split\n",
    "from sklearn.tree import DecisionTreeRegressor\n",
    "from sklearn.linear_model import LinearRegression\n",
    "from sklearn.metrics import mean_squared_error\n",
    "\n",
    "\"\"\" 시각화 \"\"\"\n",
    "import matplotlib.pyplot as plt"
   ]
  },
  {
   "cell_type": "markdown",
   "id": "9f73ad0e-8531-47fe-a7c5-e2a98c76c419",
   "metadata": {},
   "source": [
    "## 2. 데이터 불러오기\n",
    "\n",
    "- Stock Market Prediction using Decision Tree"
   ]
  },
  {
   "cell_type": "code",
   "execution_count": 3,
   "id": "8b649532",
   "metadata": {
    "ExecuteTime": {
     "end_time": "2025-03-06T06:47:06.312804Z",
     "start_time": "2025-03-06T06:47:05.572048Z"
    }
   },
   "outputs": [
    {
     "ename": "FileNotFoundError",
     "evalue": "[Errno 2] No such file or directory: '/content/LG2024_DTKNN/data/AAPL_data.csv'",
     "output_type": "error",
     "traceback": [
      "\u001b[1;31m---------------------------------------------------------------------------\u001b[0m",
      "\u001b[1;31mFileNotFoundError\u001b[0m                         Traceback (most recent call last)",
      "Cell \u001b[1;32mIn[3], line 2\u001b[0m\n\u001b[0;32m      1\u001b[0m \u001b[38;5;66;03m# apple 주식 data 불러오기\u001b[39;00m\n\u001b[1;32m----> 2\u001b[0m df \u001b[38;5;241m=\u001b[39m pd\u001b[38;5;241m.\u001b[39mread_csv(\u001b[38;5;124m'\u001b[39m\u001b[38;5;124m/content/LG2024_DTKNN/data/AAPL_data.csv\u001b[39m\u001b[38;5;124m'\u001b[39m)\n",
      "File \u001b[1;32m~\\anaconda3\\Lib\\site-packages\\pandas\\io\\parsers\\readers.py:948\u001b[0m, in \u001b[0;36mread_csv\u001b[1;34m(filepath_or_buffer, sep, delimiter, header, names, index_col, usecols, dtype, engine, converters, true_values, false_values, skipinitialspace, skiprows, skipfooter, nrows, na_values, keep_default_na, na_filter, verbose, skip_blank_lines, parse_dates, infer_datetime_format, keep_date_col, date_parser, date_format, dayfirst, cache_dates, iterator, chunksize, compression, thousands, decimal, lineterminator, quotechar, quoting, doublequote, escapechar, comment, encoding, encoding_errors, dialect, on_bad_lines, delim_whitespace, low_memory, memory_map, float_precision, storage_options, dtype_backend)\u001b[0m\n\u001b[0;32m    935\u001b[0m kwds_defaults \u001b[38;5;241m=\u001b[39m _refine_defaults_read(\n\u001b[0;32m    936\u001b[0m     dialect,\n\u001b[0;32m    937\u001b[0m     delimiter,\n\u001b[1;32m   (...)\u001b[0m\n\u001b[0;32m    944\u001b[0m     dtype_backend\u001b[38;5;241m=\u001b[39mdtype_backend,\n\u001b[0;32m    945\u001b[0m )\n\u001b[0;32m    946\u001b[0m kwds\u001b[38;5;241m.\u001b[39mupdate(kwds_defaults)\n\u001b[1;32m--> 948\u001b[0m \u001b[38;5;28;01mreturn\u001b[39;00m _read(filepath_or_buffer, kwds)\n",
      "File \u001b[1;32m~\\anaconda3\\Lib\\site-packages\\pandas\\io\\parsers\\readers.py:611\u001b[0m, in \u001b[0;36m_read\u001b[1;34m(filepath_or_buffer, kwds)\u001b[0m\n\u001b[0;32m    608\u001b[0m _validate_names(kwds\u001b[38;5;241m.\u001b[39mget(\u001b[38;5;124m\"\u001b[39m\u001b[38;5;124mnames\u001b[39m\u001b[38;5;124m\"\u001b[39m, \u001b[38;5;28;01mNone\u001b[39;00m))\n\u001b[0;32m    610\u001b[0m \u001b[38;5;66;03m# Create the parser.\u001b[39;00m\n\u001b[1;32m--> 611\u001b[0m parser \u001b[38;5;241m=\u001b[39m TextFileReader(filepath_or_buffer, \u001b[38;5;241m*\u001b[39m\u001b[38;5;241m*\u001b[39mkwds)\n\u001b[0;32m    613\u001b[0m \u001b[38;5;28;01mif\u001b[39;00m chunksize \u001b[38;5;129;01mor\u001b[39;00m iterator:\n\u001b[0;32m    614\u001b[0m     \u001b[38;5;28;01mreturn\u001b[39;00m parser\n",
      "File \u001b[1;32m~\\anaconda3\\Lib\\site-packages\\pandas\\io\\parsers\\readers.py:1448\u001b[0m, in \u001b[0;36mTextFileReader.__init__\u001b[1;34m(self, f, engine, **kwds)\u001b[0m\n\u001b[0;32m   1445\u001b[0m     \u001b[38;5;28mself\u001b[39m\u001b[38;5;241m.\u001b[39moptions[\u001b[38;5;124m\"\u001b[39m\u001b[38;5;124mhas_index_names\u001b[39m\u001b[38;5;124m\"\u001b[39m] \u001b[38;5;241m=\u001b[39m kwds[\u001b[38;5;124m\"\u001b[39m\u001b[38;5;124mhas_index_names\u001b[39m\u001b[38;5;124m\"\u001b[39m]\n\u001b[0;32m   1447\u001b[0m \u001b[38;5;28mself\u001b[39m\u001b[38;5;241m.\u001b[39mhandles: IOHandles \u001b[38;5;241m|\u001b[39m \u001b[38;5;28;01mNone\u001b[39;00m \u001b[38;5;241m=\u001b[39m \u001b[38;5;28;01mNone\u001b[39;00m\n\u001b[1;32m-> 1448\u001b[0m \u001b[38;5;28mself\u001b[39m\u001b[38;5;241m.\u001b[39m_engine \u001b[38;5;241m=\u001b[39m \u001b[38;5;28mself\u001b[39m\u001b[38;5;241m.\u001b[39m_make_engine(f, \u001b[38;5;28mself\u001b[39m\u001b[38;5;241m.\u001b[39mengine)\n",
      "File \u001b[1;32m~\\anaconda3\\Lib\\site-packages\\pandas\\io\\parsers\\readers.py:1705\u001b[0m, in \u001b[0;36mTextFileReader._make_engine\u001b[1;34m(self, f, engine)\u001b[0m\n\u001b[0;32m   1703\u001b[0m     \u001b[38;5;28;01mif\u001b[39;00m \u001b[38;5;124m\"\u001b[39m\u001b[38;5;124mb\u001b[39m\u001b[38;5;124m\"\u001b[39m \u001b[38;5;129;01mnot\u001b[39;00m \u001b[38;5;129;01min\u001b[39;00m mode:\n\u001b[0;32m   1704\u001b[0m         mode \u001b[38;5;241m+\u001b[39m\u001b[38;5;241m=\u001b[39m \u001b[38;5;124m\"\u001b[39m\u001b[38;5;124mb\u001b[39m\u001b[38;5;124m\"\u001b[39m\n\u001b[1;32m-> 1705\u001b[0m \u001b[38;5;28mself\u001b[39m\u001b[38;5;241m.\u001b[39mhandles \u001b[38;5;241m=\u001b[39m get_handle(\n\u001b[0;32m   1706\u001b[0m     f,\n\u001b[0;32m   1707\u001b[0m     mode,\n\u001b[0;32m   1708\u001b[0m     encoding\u001b[38;5;241m=\u001b[39m\u001b[38;5;28mself\u001b[39m\u001b[38;5;241m.\u001b[39moptions\u001b[38;5;241m.\u001b[39mget(\u001b[38;5;124m\"\u001b[39m\u001b[38;5;124mencoding\u001b[39m\u001b[38;5;124m\"\u001b[39m, \u001b[38;5;28;01mNone\u001b[39;00m),\n\u001b[0;32m   1709\u001b[0m     compression\u001b[38;5;241m=\u001b[39m\u001b[38;5;28mself\u001b[39m\u001b[38;5;241m.\u001b[39moptions\u001b[38;5;241m.\u001b[39mget(\u001b[38;5;124m\"\u001b[39m\u001b[38;5;124mcompression\u001b[39m\u001b[38;5;124m\"\u001b[39m, \u001b[38;5;28;01mNone\u001b[39;00m),\n\u001b[0;32m   1710\u001b[0m     memory_map\u001b[38;5;241m=\u001b[39m\u001b[38;5;28mself\u001b[39m\u001b[38;5;241m.\u001b[39moptions\u001b[38;5;241m.\u001b[39mget(\u001b[38;5;124m\"\u001b[39m\u001b[38;5;124mmemory_map\u001b[39m\u001b[38;5;124m\"\u001b[39m, \u001b[38;5;28;01mFalse\u001b[39;00m),\n\u001b[0;32m   1711\u001b[0m     is_text\u001b[38;5;241m=\u001b[39mis_text,\n\u001b[0;32m   1712\u001b[0m     errors\u001b[38;5;241m=\u001b[39m\u001b[38;5;28mself\u001b[39m\u001b[38;5;241m.\u001b[39moptions\u001b[38;5;241m.\u001b[39mget(\u001b[38;5;124m\"\u001b[39m\u001b[38;5;124mencoding_errors\u001b[39m\u001b[38;5;124m\"\u001b[39m, \u001b[38;5;124m\"\u001b[39m\u001b[38;5;124mstrict\u001b[39m\u001b[38;5;124m\"\u001b[39m),\n\u001b[0;32m   1713\u001b[0m     storage_options\u001b[38;5;241m=\u001b[39m\u001b[38;5;28mself\u001b[39m\u001b[38;5;241m.\u001b[39moptions\u001b[38;5;241m.\u001b[39mget(\u001b[38;5;124m\"\u001b[39m\u001b[38;5;124mstorage_options\u001b[39m\u001b[38;5;124m\"\u001b[39m, \u001b[38;5;28;01mNone\u001b[39;00m),\n\u001b[0;32m   1714\u001b[0m )\n\u001b[0;32m   1715\u001b[0m \u001b[38;5;28;01massert\u001b[39;00m \u001b[38;5;28mself\u001b[39m\u001b[38;5;241m.\u001b[39mhandles \u001b[38;5;129;01mis\u001b[39;00m \u001b[38;5;129;01mnot\u001b[39;00m \u001b[38;5;28;01mNone\u001b[39;00m\n\u001b[0;32m   1716\u001b[0m f \u001b[38;5;241m=\u001b[39m \u001b[38;5;28mself\u001b[39m\u001b[38;5;241m.\u001b[39mhandles\u001b[38;5;241m.\u001b[39mhandle\n",
      "File \u001b[1;32m~\\anaconda3\\Lib\\site-packages\\pandas\\io\\common.py:863\u001b[0m, in \u001b[0;36mget_handle\u001b[1;34m(path_or_buf, mode, encoding, compression, memory_map, is_text, errors, storage_options)\u001b[0m\n\u001b[0;32m    858\u001b[0m \u001b[38;5;28;01melif\u001b[39;00m \u001b[38;5;28misinstance\u001b[39m(handle, \u001b[38;5;28mstr\u001b[39m):\n\u001b[0;32m    859\u001b[0m     \u001b[38;5;66;03m# Check whether the filename is to be opened in binary mode.\u001b[39;00m\n\u001b[0;32m    860\u001b[0m     \u001b[38;5;66;03m# Binary mode does not support 'encoding' and 'newline'.\u001b[39;00m\n\u001b[0;32m    861\u001b[0m     \u001b[38;5;28;01mif\u001b[39;00m ioargs\u001b[38;5;241m.\u001b[39mencoding \u001b[38;5;129;01mand\u001b[39;00m \u001b[38;5;124m\"\u001b[39m\u001b[38;5;124mb\u001b[39m\u001b[38;5;124m\"\u001b[39m \u001b[38;5;129;01mnot\u001b[39;00m \u001b[38;5;129;01min\u001b[39;00m ioargs\u001b[38;5;241m.\u001b[39mmode:\n\u001b[0;32m    862\u001b[0m         \u001b[38;5;66;03m# Encoding\u001b[39;00m\n\u001b[1;32m--> 863\u001b[0m         handle \u001b[38;5;241m=\u001b[39m \u001b[38;5;28mopen\u001b[39m(\n\u001b[0;32m    864\u001b[0m             handle,\n\u001b[0;32m    865\u001b[0m             ioargs\u001b[38;5;241m.\u001b[39mmode,\n\u001b[0;32m    866\u001b[0m             encoding\u001b[38;5;241m=\u001b[39mioargs\u001b[38;5;241m.\u001b[39mencoding,\n\u001b[0;32m    867\u001b[0m             errors\u001b[38;5;241m=\u001b[39merrors,\n\u001b[0;32m    868\u001b[0m             newline\u001b[38;5;241m=\u001b[39m\u001b[38;5;124m\"\u001b[39m\u001b[38;5;124m\"\u001b[39m,\n\u001b[0;32m    869\u001b[0m         )\n\u001b[0;32m    870\u001b[0m     \u001b[38;5;28;01melse\u001b[39;00m:\n\u001b[0;32m    871\u001b[0m         \u001b[38;5;66;03m# Binary mode\u001b[39;00m\n\u001b[0;32m    872\u001b[0m         handle \u001b[38;5;241m=\u001b[39m \u001b[38;5;28mopen\u001b[39m(handle, ioargs\u001b[38;5;241m.\u001b[39mmode)\n",
      "\u001b[1;31mFileNotFoundError\u001b[0m: [Errno 2] No such file or directory: '/content/LG2024_DTKNN/data/AAPL_data.csv'"
     ]
    }
   ],
   "source": [
    "# apple 주식 data 불러오기\n",
    "df = pd.read_csv('/content/LG2024_DTKNN/data/AAPL_data.csv')\n",
    "# df = pd.read_csv('../data/AAPL_data.csv') #로컬"
   ]
  },
  {
   "cell_type": "code",
   "execution_count": null,
   "id": "8d7a917c",
   "metadata": {
    "ExecuteTime": {
     "end_time": "2025-03-06T06:47:06.316789Z",
     "start_time": "2025-03-06T06:47:06.316789Z"
    }
   },
   "outputs": [],
   "source": [
    "# data 상위 5개 행 살펴보기\n",
    "df.head()"
   ]
  },
  {
   "cell_type": "code",
   "execution_count": null,
   "id": "6e540319",
   "metadata": {
    "ExecuteTime": {
     "end_time": "2025-03-06T06:47:06.317785Z",
     "start_time": "2025-03-06T06:47:06.317785Z"
    }
   },
   "outputs": [],
   "source": [
    "# data 정보 확인\n",
    "df.info()"
   ]
  },
  {
   "cell_type": "code",
   "execution_count": null,
   "id": "6eea5ba2",
   "metadata": {
    "ExecuteTime": {
     "end_time": "2025-03-06T06:47:06.317785Z",
     "start_time": "2025-03-06T06:47:06.317785Z"
    }
   },
   "outputs": [],
   "source": [
    "# data 요약 통계량 확인\n",
    "df.describe()"
   ]
  },
  {
   "cell_type": "code",
   "execution_count": null,
   "id": "285a156e",
   "metadata": {
    "ExecuteTime": {
     "end_time": "2025-03-06T06:47:06.318782Z",
     "start_time": "2025-03-06T06:47:06.318782Z"
    }
   },
   "outputs": [],
   "source": [
    "# data 크기 확인\n",
    "df.shape"
   ]
  },
  {
   "cell_type": "markdown",
   "id": "3cc5d6c6",
   "metadata": {},
   "source": [
    "## 2.1 Exploratory Data Analysis(EDA)"
   ]
  },
  {
   "cell_type": "code",
   "execution_count": null,
   "id": "14acc8d7",
   "metadata": {
    "ExecuteTime": {
     "end_time": "2025-03-06T06:47:06.318782Z",
     "start_time": "2025-03-06T06:47:06.318782Z"
    }
   },
   "outputs": [],
   "source": [
    "# Apple stock data의 opening price 시각화\n",
    "plt.figure(figsize = (16,8))\n",
    "plt.title('Apple stock')\n",
    "plt.xlabel('Days')\n",
    "plt.ylabel('Opening Price USD ($)')\n",
    "plt.plot(df['open'])\n",
    "plt.show()"
   ]
  },
  {
   "cell_type": "code",
   "execution_count": null,
   "id": "33391a1a",
   "metadata": {
    "ExecuteTime": {
     "end_time": "2025-03-06T06:47:06.319779Z",
     "start_time": "2025-03-06T06:47:06.319779Z"
    }
   },
   "outputs": [],
   "source": [
    "# Apple stock data의 low price 시각화\n",
    "plt.figure(figsize = (16,8))\n",
    "plt.title('Apple stock')\n",
    "plt.xlabel('Days')\n",
    "plt.ylabel('Low Price USD ($)')\n",
    "plt.plot(df['low'])\n",
    "plt.show()"
   ]
  },
  {
   "cell_type": "code",
   "execution_count": null,
   "id": "e38b6653",
   "metadata": {
    "ExecuteTime": {
     "end_time": "2025-03-06T06:47:06.320775Z",
     "start_time": "2025-03-06T06:47:06.320775Z"
    }
   },
   "outputs": [],
   "source": [
    "# Apple stock data의 close price 시각화\n",
    "plt.figure(figsize=(16,8))\n",
    "plt.title('Apple')\n",
    "plt.xlabel('Days')\n",
    "plt.ylabel('Closing Price USD ($)')\n",
    "plt.plot(df['close'])\n",
    "plt.show()"
   ]
  },
  {
   "cell_type": "code",
   "execution_count": null,
   "id": "69cd573b",
   "metadata": {
    "ExecuteTime": {
     "end_time": "2025-03-06T06:47:06.320775Z",
     "start_time": "2025-03-06T06:47:06.320775Z"
    }
   },
   "outputs": [],
   "source": [
    "# close price data를 새로운 dataframe df2에 저장\n",
    "df2 = df['close']\n",
    "df2 = pd.DataFrame(df2)"
   ]
  },
  {
   "cell_type": "markdown",
   "id": "9ff7cc6d",
   "metadata": {},
   "source": [
    "## 2.2 Prediction 100 days into the future"
   ]
  },
  {
   "cell_type": "code",
   "execution_count": null,
   "id": "ab5869ef",
   "metadata": {
    "ExecuteTime": {
     "end_time": "2025-03-06T06:47:06.321772Z",
     "start_time": "2025-03-06T06:47:06.321772Z"
    }
   },
   "outputs": [],
   "source": [
    "# 현재 data에서 100시점 만큼 미래를 예측하는 것이 목적이므로 데이터를 100시점 만큼 앞으로 당김 -> df2['prediction']에 저장\n",
    "# df2['Prediction'] 끝에서부터 100시점은 Not A Number(NAN) 처리됨\n",
    "future_days = 100\n",
    "df2['Prediction'] = df2['close'].shift(-future_days)\n",
    "df2"
   ]
  },
  {
   "cell_type": "code",
   "execution_count": null,
   "id": "62943aa2",
   "metadata": {
    "ExecuteTime": {
     "end_time": "2025-03-06T06:47:06.322769Z",
     "start_time": "2025-03-06T06:47:06.322769Z"
    }
   },
   "outputs": [],
   "source": [
    "# df2['Prediction']는 df2['close']를 100시점만큼 이전으로 평행이동한 값임을 plot을 통해 확인\n",
    "plt.figure(figsize=(16,8))\n",
    "plt.title('Apple Stock')\n",
    "plt.xlabel('Days')\n",
    "plt.ylabel('Price USD ($)')\n",
    "plt.plot(df2['close'])\n",
    "plt.plot(df2['Prediction'])\n",
    "plt.legend(['close','Prediction'])\n",
    "plt.show()"
   ]
  },
  {
   "cell_type": "code",
   "execution_count": null,
   "id": "372f845b",
   "metadata": {
    "ExecuteTime": {
     "end_time": "2025-03-06T06:47:06.322769Z",
     "start_time": "2025-03-06T06:47:06.322769Z"
    }
   },
   "outputs": [],
   "source": [
    "# df['close']의 끝시점으로부터 100시점 이전까지를 제외한 후 X array에 저장\n",
    "X = np.array(df2.drop(['Prediction'], 1))[:-future_days]\n",
    "print(X)"
   ]
  },
  {
   "cell_type": "code",
   "execution_count": null,
   "id": "8ae9a308",
   "metadata": {
    "ExecuteTime": {
     "end_time": "2025-03-06T06:47:06.323765Z",
     "start_time": "2025-03-06T06:47:06.323765Z"
    }
   },
   "outputs": [],
   "source": [
    "# df['Prediction']의 끝시점으로부터 100시점 이전까지를 제외한 후 y array에 저장\n",
    "y = np.array(df2['Prediction'])[:-future_days]\n",
    "print(y)"
   ]
  },
  {
   "cell_type": "code",
   "execution_count": null,
   "id": "800fa876",
   "metadata": {
    "ExecuteTime": {
     "end_time": "2025-03-06T06:47:06.323765Z",
     "start_time": "2025-03-06T06:47:06.323765Z"
    }
   },
   "outputs": [],
   "source": [
    "# 즉, y는 X 각 시점의 100시점 이후의 값을 의미하며 이를 모델의 X, y값으로 대입\n",
    "plt.figure(figsize=(16,8))\n",
    "plt.title('Apple Stock')\n",
    "plt.xlabel('Days')\n",
    "plt.ylabel('Closing Price USD ($)')\n",
    "plt.plot(X)\n",
    "plt.plot(y)"
   ]
  },
  {
   "cell_type": "markdown",
   "id": "07874b5c",
   "metadata": {},
   "source": [
    "## 3. Linear and Decision Tree Regression "
   ]
  },
  {
   "cell_type": "code",
   "execution_count": null,
   "id": "a896ca35",
   "metadata": {
    "ExecuteTime": {
     "end_time": "2025-03-06T06:47:06.324762Z",
     "start_time": "2025-03-06T06:47:06.324762Z"
    }
   },
   "outputs": [],
   "source": [
    "# X,y를 train data와 test data로 split\n",
    "\n",
    "x_train, x_test, y_train, y_test = train_test_split(X, y, test_size = 0.2)"
   ]
  },
  {
   "cell_type": "code",
   "execution_count": null,
   "id": "19ccfdd8",
   "metadata": {
    "ExecuteTime": {
     "end_time": "2025-03-06T06:47:06.324762Z",
     "start_time": "2025-03-06T06:47:06.324762Z"
    }
   },
   "outputs": [],
   "source": [
    "# Linear tree regression과 Decision Tree Regression에 train data 대입\n",
    "tree = DecisionTreeRegressor().fit(x_train, y_train)\n",
    "lr = LinearRegression().fit(x_train, y_train)"
   ]
  },
  {
   "cell_type": "code",
   "execution_count": null,
   "id": "7b1ef8dd",
   "metadata": {
    "ExecuteTime": {
     "end_time": "2025-03-06T06:47:06.325759Z",
     "start_time": "2025-03-06T06:47:06.325759Z"
    }
   },
   "outputs": [],
   "source": [
    "# test를 위해 x_future에 X의 끝시점에서 100이전까지의 값을 x_future에 저장\n",
    "x_future = pd.DataFrame(X).tail(future_days)\n",
    "x_future"
   ]
  },
  {
   "cell_type": "code",
   "execution_count": null,
   "id": "a2720ac8",
   "metadata": {
    "ExecuteTime": {
     "end_time": "2025-03-06T06:47:06.326755Z",
     "start_time": "2025-03-06T06:47:06.326755Z"
    }
   },
   "outputs": [],
   "source": [
    "# x_future의 Decision Tree Regression 결과\n",
    "tree_prediction = tree.predict(x_future)\n",
    "print(tree_prediction)"
   ]
  },
  {
   "cell_type": "code",
   "execution_count": null,
   "id": "d052b9c9",
   "metadata": {
    "ExecuteTime": {
     "end_time": "2025-03-06T06:47:06.327752Z",
     "start_time": "2025-03-06T06:47:06.327752Z"
    }
   },
   "outputs": [],
   "source": [
    "# x_future의 Linear Regression 결과\n",
    "lr_prediction = lr.predict(x_future)\n",
    "print(lr_prediction)"
   ]
  },
  {
   "cell_type": "code",
   "execution_count": null,
   "id": "dd2a9182",
   "metadata": {
    "ExecuteTime": {
     "end_time": "2025-03-06T06:47:06.328749Z",
     "start_time": "2025-03-06T06:47:06.327752Z"
    }
   },
   "outputs": [],
   "source": [
    "# 비교를 위해 valid_linear dataframe에 실제 값(['close'])과 예측값('Prediction')을 대입\n",
    "# valid_tree['predictions']는 decision tree 예측값을 의미함\n",
    "valid_lr = df2[X.shape[0]:]\n",
    "valid_lr['Predictions'] = lr_prediction\n",
    "valid_lr"
   ]
  },
  {
   "cell_type": "code",
   "execution_count": null,
   "id": "f625e52a",
   "metadata": {
    "ExecuteTime": {
     "end_time": "2025-03-06T06:47:06.329174Z",
     "start_time": "2025-03-06T06:47:06.329174Z"
    }
   },
   "outputs": [],
   "source": [
    "# linear regression 예측 결과와 실제 결과 비교를 위해 plot 그림\n",
    "plt.figure(figsize=(16,8))\n",
    "plt.title(\"Model\")\n",
    "plt.xlabel('Days')\n",
    "plt.ylabel('Close Price USD ($)')\n",
    "plt.plot(df2['close'])\n",
    "plt.plot(valid_lr[['close', 'Predictions']])\n",
    "plt.legend([\"Original\", \"Valid\", 'Predicted'])\n",
    "plt.show()"
   ]
  },
  {
   "cell_type": "code",
   "execution_count": null,
   "id": "39201469",
   "metadata": {
    "ExecuteTime": {
     "end_time": "2025-03-06T06:47:06.329745Z",
     "start_time": "2025-03-06T06:47:06.329745Z"
    }
   },
   "outputs": [],
   "source": [
    "# 비교를 위해 valid_tree dataframe에 실제 값(['close'])과 예측값('Prediction')을 대입\n",
    "# valid_tree['predictions']는 decision tree 예측값을 의미함\n",
    "valid_tree = df2[X.shape[0]:]\n",
    "valid_tree['Predictions'] = tree_prediction\n",
    "valid_tree"
   ]
  },
  {
   "cell_type": "code",
   "execution_count": null,
   "id": "796bd7d8",
   "metadata": {
    "ExecuteTime": {
     "end_time": "2025-03-06T06:47:06.330742Z",
     "start_time": "2025-03-06T06:47:06.330742Z"
    }
   },
   "outputs": [],
   "source": [
    "# Decision Tree Regression 결과와 실제 결과 비교를 위해 plot 그림\n",
    "plt.figure(figsize=(16,8))\n",
    "plt.title(\"Model\")\n",
    "plt.xlabel('Days')\n",
    "plt.ylabel('Close Price USD ($)')\n",
    "plt.plot(df2['close'])\n",
    "plt.plot(valid_tree[['close', 'Predictions']])\n",
    "plt.legend([\"Original\", \"Valid\", 'Predicted'])\n",
    "plt.show()"
   ]
  },
  {
   "cell_type": "code",
   "execution_count": null,
   "id": "0c43ffb2",
   "metadata": {
    "ExecuteTime": {
     "end_time": "2025-03-06T06:47:06.330742Z",
     "start_time": "2025-03-06T06:47:06.330742Z"
    }
   },
   "outputs": [],
   "source": [
    "# Linear Regression과 실제 값의 정확한 결과 비교를 위해 끝에서 100시점 부분 확대\n",
    "plt.figure(figsize=(16,8))\n",
    "plt.title(\"Model Comparison\")\n",
    "plt.xlabel('Days')\n",
    "plt.ylabel('Close Price USD ($)')\n",
    "plt.plot(valid_lr[['close']], color = 'b')\n",
    "plt.plot(valid_lr[['Predictions']], color = 'darkorange', linestyle = '--')\n",
    "plt.plot(valid_tree[['Predictions']], color = 'r', linestyle = '--')\n",
    "plt.legend([\"Original\", \"Linear Regression\", 'Decision Tree'])"
   ]
  },
  {
   "cell_type": "code",
   "execution_count": null,
   "id": "82061901",
   "metadata": {
    "ExecuteTime": {
     "end_time": "2025-03-06T06:47:06.331739Z",
     "start_time": "2025-03-06T06:47:06.331739Z"
    }
   },
   "outputs": [],
   "source": [
    "RMSE_lr = mean_squared_error(valid_lr[['close']].values, valid_lr[['Predictions']].values)**0.5\n",
    "RMSE_lr"
   ]
  },
  {
   "cell_type": "code",
   "execution_count": null,
   "id": "a940b77b",
   "metadata": {
    "ExecuteTime": {
     "end_time": "2025-03-06T06:47:06.331739Z",
     "start_time": "2025-03-06T06:47:06.331739Z"
    }
   },
   "outputs": [],
   "source": [
    "RMSE_tree = mean_squared_error(valid_tree[['close']].values, valid_tree[['Predictions']].values)**0.5\n",
    "RMSE_tree"
   ]
  },
  {
   "cell_type": "markdown",
   "id": "6fea9e46-9365-481e-8c34-dd6f47094930",
   "metadata": {},
   "source": [
    "# EOD"
   ]
  }
 ],
 "metadata": {
  "kernelspec": {
   "display_name": "Python 3 (ipykernel)",
   "language": "python",
   "name": "python3"
  },
  "language_info": {
   "codemirror_mode": {
    "name": "ipython",
    "version": 3
   },
   "file_extension": ".py",
   "mimetype": "text/x-python",
   "name": "python",
   "nbconvert_exporter": "python",
   "pygments_lexer": "ipython3",
   "version": "3.11.7"
  },
  "toc": {
   "base_numbering": 1,
   "nav_menu": {},
   "number_sections": true,
   "sideBar": true,
   "skip_h1_title": false,
   "title_cell": "Table of Contents",
   "title_sidebar": "Contents",
   "toc_cell": false,
   "toc_position": {
    "height": "calc(100% - 180px)",
    "left": "10px",
    "top": "150px",
    "width": "415.556px"
   },
   "toc_section_display": true,
   "toc_window_display": true
  },
  "varInspector": {
   "cols": {
    "lenName": 16,
    "lenType": 16,
    "lenVar": 40
   },
   "kernels_config": {
    "python": {
     "delete_cmd_postfix": "",
     "delete_cmd_prefix": "del ",
     "library": "var_list.py",
     "varRefreshCmd": "print(var_dic_list())"
    },
    "r": {
     "delete_cmd_postfix": ") ",
     "delete_cmd_prefix": "rm(",
     "library": "var_list.r",
     "varRefreshCmd": "cat(var_dic_list()) "
    }
   },
   "types_to_exclude": [
    "module",
    "function",
    "builtin_function_or_method",
    "instance",
    "_Feature"
   ],
   "window_display": false
  }
 },
 "nbformat": 4,
 "nbformat_minor": 5
}
